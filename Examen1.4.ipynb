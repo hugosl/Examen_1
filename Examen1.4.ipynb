{
 "cells": [
  {
   "cell_type": "code",
   "execution_count": 14,
   "metadata": {
    "collapsed": true
   },
   "outputs": [],
   "source": [
    "from pylab import *\n",
    "%matplotlib inline"
   ]
  },
  {
   "cell_type": "code",
   "execution_count": 84,
   "metadata": {
    "collapsed": true
   },
   "outputs": [],
   "source": [
    "def rk4(ec,p_ini,x,args=0,h=0.1):  \n",
    "    if (x[1]-x[0]) <= 5*h:\n",
    "        h = (x[1]-x[0])/10\n",
    "    tiempos = arange(x[0],x[1]+h,h)\n",
    "    sol = zeros((len(tiempos),len(p_ini)))\n",
    "    sol[0,:] = p_ini\n",
    "    if args==0:\n",
    "        for i in xrange(len(tiempos)-1):\n",
    "            k1 = ec(sol[i,:],tiempos[i])\n",
    "            k2 = ec(sol[i,:]+0.5*h*k1,tiempos[i]+0.5*h)\n",
    "            k3 = ec(sol[i,:]+0.5*h*k2,tiempos[i]+0.5*h)\n",
    "            k4 = ec(sol[i,:]+h*k3,tiempos[i]+h)\n",
    "            sol[i+1,:]=sol[i,:]+(h/6.)*(k1+2*k2+2*k3+k4)\n",
    "    else:\n",
    "        for i in xrange(len(tiempos)-1):\n",
    "            k1 = ec(sol[i,:],tiempos[i],args)\n",
    "            k2 = ec(sol[i,:]+0.5*h*k1,tiempos[i]+0.5*h,args)\n",
    "            k3 = ec(sol[i,:]+0.5*h*k2,tiempos[i]+0.5*h,args)\n",
    "            k4 = ec(sol[i,:]+h*k3,tiempos[i]+h,args)\n",
    "            sol[i+1,:]=sol[i,:]+(h/6.)*(k1+2*k2+2*k3+k4)\n",
    "    return tiempos,sol"
   ]
  },
  {
   "cell_type": "code",
   "execution_count": 16,
   "metadata": {
    "collapsed": true
   },
   "outputs": [],
   "source": [
    "def e_mov(r_v,t):\n",
    "    dx = r_v[2]\n",
    "    dy = r_v[3]\n",
    "    dvx,dvy = 0,0\n",
    "    return array([dx,dy,dvx,dvy])"
   ]
  },
  {
   "cell_type": "code",
   "execution_count": 119,
   "metadata": {
    "collapsed": false
   },
   "outputs": [],
   "source": [
    "def rebote(r_v_i,mi_dt):\n",
    "    dt_busqueda = (mi_dt)/2\n",
    "    y_izq = r_v_i\n",
    "    t,sol = rk4(e_mov,r_v_i,[0,dt_busqueda])\n",
    "    y_med = sol[-1,:]\n",
    "    r_1 = sqrt((y_izq[0])**2 + (y_izq[1])**2)\n",
    "    while r_1 > b : # es esta parte si abs(y_izq[1]) esta por arriba del plano inclinado entra \n",
    "                                     # al ciclo, este es el unico cambio que se le hizo a este algoritmo\n",
    "        reinicio = y_med\n",
    "        dt_busqueda = dt_busqueda/2\n",
    "        t,sol = rk4(e_mov,reinicio,[0,dt_busqueda])\n",
    "        y_izq = reinicio\n",
    "        y_med = sol[-1,:]\n",
    "        r_1 = sqrt((y_izq[0])**2 + (y_izq[1])**2)\n",
    "    ang = arccos((y_izq[0]*y_izq[2] + y_izq[1]*y_izq[3])/(sqrt(y_izq[0]**2 + y_izq[1]**2)*sqrt(y_izq[2]**2 + y_izq[3]**2)))\n",
    "    y_izq2 =  -cos(-2*ang)*(y_izq[2]) - sin(-2*ang)*(y_izq[3]) \n",
    "    y_izq3 =  sin(-2*ang)*(y_izq[2]) - cos(-2*ang)*(y_izq[3]) \n",
    "    y_izq = array([y_izq[0],y_izq[1],y_izq2,y_izq3])    \n",
    "    return y_izq"
   ]
  },
  {
   "cell_type": "code",
   "execution_count": 134,
   "metadata": {
    "collapsed": true
   },
   "outputs": [],
   "source": [
    "def rebote2(r_v_i,mi_dt):\n",
    "    dt_busqueda = (mi_dt)/2\n",
    "    y_izq = r_v_i\n",
    "    t,sol = rk4(e_mov,r_v_i,[0,dt_busqueda])\n",
    "    y_med = sol[-1,:]\n",
    "    r_1 = sqrt((y_izq[0])**2 + (y_izq[1])**2)\n",
    "    while r_1 < a : # es esta parte si abs(y_izq[1]) esta por arriba del plano inclinado entra \n",
    "                                     # al ciclo, este es el unico cambio que se le hizo a este algoritmo\n",
    "        reinicio = y_med\n",
    "        dt_busqueda = dt_busqueda/2\n",
    "        t,sol = rk4(e_mov,reinicio,[0,dt_busqueda])\n",
    "        y_izq = reinicio\n",
    "        y_med = sol[-1,:]\n",
    "        r_1 = sqrt((y_izq[0])**2 + (y_izq[1])**2)\n",
    "    ang = arccos((y_izq[0]*y_izq[2] + y_izq[1]*y_izq[3])/(sqrt(y_izq[0]**2 + y_izq[1]**2)*sqrt(y_izq[2]**2 + y_izq[3]**2)))\n",
    "    y_izq2 =  -cos(-2*ang)*(y_izq[2]) - sin(-2*ang)*(y_izq[3]) \n",
    "    y_izq3 =  sin(-2*ang)*(y_izq[2]) - cos(-2*ang)*(y_izq[3]) \n",
    "    y_izq = array([y_izq[0],y_izq[1],y_izq2,y_izq3])    \n",
    "    return y_izq"
   ]
  },
  {
   "cell_type": "code",
   "execution_count": 18,
   "metadata": {
    "collapsed": true
   },
   "outputs": [],
   "source": [
    "def pendiente(angulo): # encuentra la pendiente en funcion del angulo dado\n",
    "    m = -tan(angulo)\n",
    "    return m \n",
    "def f(x,angulo,h):     # encuentra la recta del plano en funcion del angulo, p es la altura inicial\n",
    "    if abs(x) <= 5:\n",
    "        y=x*pendiente(angulo)+h\n",
    "    else:\n",
    "        y=-x*pendiente(angulo)-h   \n",
    "    return y"
   ]
  },
  {
   "cell_type": "code",
   "execution_count": 19,
   "metadata": {
    "collapsed": true
   },
   "outputs": [],
   "source": [
    "def g(x,angulo):     # encuentra la recta del plano en funcion del angulo, p es la altura inicial\n",
    "    f=x*pendiente(angulo)+2.8867513459481287\n",
    "    return f\n",
    "def k(z,angulo):\n",
    "    f=-z*pendiente(angulo)-2.8867513459481287   \n",
    "    return f"
   ]
  },
  {
   "cell_type": "code",
   "execution_count": 152,
   "metadata": {
    "collapsed": false
   },
   "outputs": [
    {
     "name": "stdout",
     "output_type": "stream",
     "text": [
      "rebotes = 20\n"
     ]
    },
    {
     "data": {
      "image/png": "[encoded data removed]",
      "text/plain": [
       "<matplotlib.figure.Figure at 0x7f51ebaf8c50>"
      ]
     },
     "metadata": {},
     "output_type": "display_data"
    }
   ],
   "source": [
    "a=2\n",
    "b=2*a\n",
    "reb = 0\n",
    " # altura de la pendiente desde donde se hace el lazamiento\n",
    "inicio = [1.9,3,0,-1] # las dos primeras entradas corresponden a la posicion inicial de la pelora (x,y)\n",
    "                    # las ultimas dos estradas corresponde a las componetes de la velocidad incial de la pelota (vx,vy) \n",
    "N = 6000 # numero de puntos a calcular dentro de la trayectoria\n",
    "trayectoria = zeros((N,len(inicio)))\n",
    "mi_dt = .01\n",
    "trayectoria[0,:] = array(inicio)\n",
    "for i in range(N-1):\n",
    "    t,sol_dt = rk4(e_mov,trayectoria[i,:],[0,mi_dt]) # aqui se escoje la friccion a utilizar\n",
    "    r = sqrt((sol_dt[-1,:][1])**2 + (sol_dt[-1,:][0])**2)\n",
    "    if r > b: # si la posicion en y de la pelota es menor a la altura del plano la pelota rebota\n",
    "        punto = rebote(trayectoria[i,:],mi_dt)\n",
    "        trayectoria[i+1,:] = punto \n",
    "        reb +=1\n",
    "    else:\n",
    "        trayectoria[i+1,:] = sol_dt[-1,:]      \n",
    "    if r < a: # si la posicion en y de la pelota es menor a la altura del plano la pelota rebota\n",
    "        punto = rebote2(trayectoria[i,:],mi_dt)\n",
    "        trayectoria[i+1,:] = punto \n",
    "        reb +=1\n",
    "x=linspace(-b,b)\n",
    "z=linspace(-b,b)\n",
    "v=linspace(-a,a)\n",
    "w=linspace(-a,a)\n",
    "plot(x,sqrt(-x**2 + b**2),'black',z,-sqrt(-z**2 + b**2),'black')\n",
    "plot(v,sqrt(-v**2 + a**2),'black',w,-sqrt(-w**2 + a**2),'black')\n",
    "plot(trayectoria[:,0],trayectoria[:,1],'-') # grafica los punto de la trayectoria \n",
    "xlim([-b-1,b+1])\n",
    "print \"rebotes =\",reb  # y el plano donde rebota la pelota\n",
    "show()"
   ]
  },
  {
   "cell_type": "code",
   "execution_count": null,
   "metadata": {
    "collapsed": true
   },
   "outputs": [],
   "source": []
  }
 ],
 "metadata": {
  "kernelspec": {
   "display_name": "Python [Root]",
   "language": "python",
   "name": "Python [Root]"
  },
  "language_info": {
   "codemirror_mode": {
    "name": "ipython",
    "version": 2
   },
   "file_extension": ".py",
   "mimetype": "text/x-python",
   "name": "python",
   "nbconvert_exporter": "python",
   "pygments_lexer": "ipython2",
   "version": "2.7.12"
  }
 },
 "nbformat": 4,
 "nbformat_minor": 0
}
