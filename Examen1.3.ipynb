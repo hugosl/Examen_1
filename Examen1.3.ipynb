{
 "cells": [
  {
   "cell_type": "code",
   "execution_count": 54,
   "metadata": {
    "collapsed": true
   },
   "outputs": [],
   "source": [
    "from pylab import *\n",
    "%matplotlib inline"
   ]
  },
  {
   "cell_type": "code",
   "execution_count": 310,
   "metadata": {
    "collapsed": true
   },
   "outputs": [],
   "source": [
    "def rk4(ec,p_ini,x,args=0,h=0.01):  \n",
    "    if (x[1]-x[0]) <= 5*h:\n",
    "        h = (x[1]-x[0])/10\n",
    "    tiempos = arange(x[0],x[1]+h,h)\n",
    "    sol = zeros((len(tiempos),len(p_ini)))\n",
    "    sol[0,:] = p_ini\n",
    "    if args==0:\n",
    "        for i in xrange(len(tiempos)-1):\n",
    "            k1 = ec(sol[i,:],tiempos[i])\n",
    "            k2 = ec(sol[i,:]+0.5*h*k1,tiempos[i]+0.5*h)\n",
    "            k3 = ec(sol[i,:]+0.5*h*k2,tiempos[i]+0.5*h)\n",
    "            k4 = ec(sol[i,:]+h*k3,tiempos[i]+h)\n",
    "            sol[i+1,:]=sol[i,:]+(h/6.)*(k1+2*k2+2*k3+k4)\n",
    "    else:\n",
    "        for i in xrange(len(tiempos)-1):\n",
    "            k1 = ec(sol[i,:],tiempos[i],args)\n",
    "            k2 = ec(sol[i,:]+0.5*h*k1,tiempos[i]+0.5*h,args)\n",
    "            k3 = ec(sol[i,:]+0.5*h*k2,tiempos[i]+0.5*h,args)\n",
    "            k4 = ec(sol[i,:]+h*k3,tiempos[i]+h,args)\n",
    "            sol[i+1,:]=sol[i,:]+(h/6.)*(k1+2*k2+2*k3+k4)\n",
    "    return tiempos,sol"
   ]
  },
  {
   "cell_type": "code",
   "execution_count": 311,
   "metadata": {
    "collapsed": true
   },
   "outputs": [],
   "source": [
    "def e_mov(r_v,t,fric=0,g=9.8,m=1):\n",
    "    dx = r_v[2]\n",
    "    dy = r_v[3]\n",
    "    if fric == 0:\n",
    "        dvx,dvy = 0,-(g/m)\n",
    "        #print \"No use un modelo de friccion\"\n",
    "    else:\n",
    "        dvx = - fric([r_v[2],r_v[3]])[0]\n",
    "        dvy = -(g/m) - fric([r_v[2],r_v[3]])[1]\n",
    "        #print \"Use un modelo de friccion\"\n",
    "    return array([dx,dy,dvx,dvy])"
   ]
  },
  {
   "cell_type": "code",
   "execution_count": 416,
   "metadata": {
    "collapsed": true
   },
   "outputs": [],
   "source": [
    "def fric_v(v,gamma=0.1): # la fricción con el aire es proporcional a la velocidad.\n",
    "    f_x = gamma*v[0]\n",
    "    f_y = gamma*v[1]\n",
    "    return array([f_x,f_y]) \n",
    "\n",
    "def fric_v2(v,gamma=0.1): # la fracción es proporcional al cuadrado de la velocidad\n",
    "    norm_v = sqrt(v[0]**2 + v[1]**2)\n",
    "    f_x = gamma*norm_v*v[0]\n",
    "    f_y = gamma*norm_v*v[1]\n",
    "    return array([f_x,f_y]) "
   ]
  },
  {
   "cell_type": "code",
   "execution_count": 438,
   "metadata": {
    "collapsed": true
   },
   "outputs": [],
   "source": [
    "def rebote(r_v_i,mi_dt):\n",
    "    dt_busqueda = (mi_dt)/2\n",
    "    y_izq = r_v_i\n",
    "    t,sol = rk4(e_mov,r_v_i,[0,dt_busqueda],fric_v)\n",
    "    y_med = sol[-1,:]\n",
    "    while abs(y_izq[1]) > abs(plano): # es esta parte si abs(y_izq[1]) esta por arriba del plano inclinado entra \n",
    "                                     # al ciclo, este es el unico cambio que se le hizo a este algoritmo\n",
    "    \n",
    "        reinicio = y_med\n",
    "        dt_busqueda = dt_busqueda/2\n",
    "        t,sol = rk4(e_mov,reinicio,[0,dt_busqueda],fric_v)\n",
    "        y_izq = reinicio\n",
    "        y_med = sol[-1,:]\n",
    "      \n",
    "    y_izq = array([y_izq[0],y_izq[1],y_izq[2],-y_izq[3]])    \n",
    "    return y_izq\n"
   ]
  },
  {
   "cell_type": "code",
   "execution_count": 439,
   "metadata": {
    "collapsed": true
   },
   "outputs": [],
   "source": [
    "def rebote2(r_v_i,mi_dt):\n",
    "    dt_busqueda = (mi_dt)/2\n",
    "    y_izq = r_v_i\n",
    "    t,sol = rk4(e_mov,r_v_i,[0,dt_busqueda],fric_v)\n",
    "    y_med = sol[-1,:]\n",
    "    while abs(y_izq[0]) > 10: # es esta parte si abs(y_izq[1]) esta por arriba del plano inclinado entra \n",
    "       \n",
    "        reinicio = y_med\n",
    "        dt_busqueda = dt_busqueda/2\n",
    "        t,sol = rk4(e_mov,reinicio,[0,dt_busqueda],fric_v)\n",
    "        y_izq = reinicio\n",
    "        y_med = sol[-1,:]\n",
    "       \n",
    "    y_izq = array([y_izq[0],y_izq[1],-y_izq[2],y_izq[3]])    \n",
    "    return y_izq"
   ]
  },
  {
   "cell_type": "code",
   "execution_count": 440,
   "metadata": {
    "collapsed": true
   },
   "outputs": [],
   "source": [
    "def rebote3(r_v_i,mi_dt):\n",
    "    dt_busqueda = (mi_dt)/2\n",
    "    y_izq = r_v_i\n",
    "    t,sol = rk4(e_mov,r_v_i,[0,dt_busqueda],fric_v)\n",
    "    y_med = sol[-1,:]\n",
    "    while abs(y_izq[0]) < 0: # es esta parte si abs(y_izq[1]) esta por arriba del plano inclinado entra  \n",
    "        reinicio = y_med\n",
    "        dt_busqueda = dt_busqueda/2\n",
    "        t,sol = rk4(e_mov,reinicio,[0,dt_busqueda],fric_v)\n",
    "        y_izq = reinicio\n",
    "        y_med = sol[-1,:]\n",
    "       \n",
    "    y_izq = array([y_izq[0],y_izq[1],-y_izq[2],y_izq[3]])    \n",
    "    return y_izq"
   ]
  },
  {
   "cell_type": "code",
   "execution_count": 441,
   "metadata": {
    "collapsed": true
   },
   "outputs": [],
   "source": [
    "def rebote4(r_v_i,mi_dt):\n",
    "    dt_busqueda = (mi_dt)/2\n",
    "    y_izq = r_v_i\n",
    "    t,sol = rk4(e_mov,r_v_i,[0,dt_busqueda],fric_v)\n",
    "    y_med = sol[-1,:]\n",
    "    while abs(y_izq[1]) > 5.9: # es esta parte si abs(y_izq[1]) esta por arriba del plano inclinado entra  \n",
    "        reinicio = y_med\n",
    "        dt_busqueda = dt_busqueda/2\n",
    "        t,sol = rk4(e_mov,reinicio,[0,dt_busqueda],fric_v)\n",
    "        y_izq = reinicio\n",
    "        y_med = sol[-1,:]\n",
    "      \n",
    "    y_izq = array([y_izq[0],y_izq[1],y_izq[2],-y_izq[3]])    \n",
    "    return y_izq"
   ]
  },
  {
   "cell_type": "code",
   "execution_count": 442,
   "metadata": {
    "collapsed": false
   },
   "outputs": [],
   "source": [
    "def pendiente(angulo): # encuentra la pendiente en funcion del angulo dado\n",
    "    m = -tan(angulo)\n",
    "    return m \n",
    "def f(x,angulo,h):     # encuentra la recta del plano en funcion del angulo, p es la altura inicial\n",
    "    if abs(x) <= 5:\n",
    "        y=x*pendiente(angulo)+h\n",
    "    else:\n",
    "        y=-x*pendiente(angulo)-h   \n",
    "    return y"
   ]
  },
  {
   "cell_type": "code",
   "execution_count": 443,
   "metadata": {
    "collapsed": true
   },
   "outputs": [],
   "source": [
    "def g(x,angulo):     # encuentra la recta del plano en funcion del angulo, p es la altura inicial\n",
    "    f=x*pendiente(angulo)+2.8867513459481287\n",
    "    return f\n",
    "def k(z,angulo):\n",
    "    f=-z*pendiente(angulo)-2.8867513459481287   \n",
    "    return f"
   ]
  },
  {
   "cell_type": "code",
   "execution_count": 444,
   "metadata": {
    "collapsed": false
   },
   "outputs": [
    {
     "name": "stdout",
     "output_type": "stream",
     "text": [
      "0.5 0.866025403784 1.0\n"
     ]
    }
   ],
   "source": [
    "v_y = cos(a)\n",
    "v_x = sin(a)\n",
    "norm=v_x**2+v_y**2\n",
    "print v_x,v_y,norm"
   ]
  },
  {
   "cell_type": "code",
   "execution_count": 450,
   "metadata": {
    "collapsed": false
   },
   "outputs": [
    {
     "name": "stdout",
     "output_type": "stream",
     "text": [
      "rebote = 192\n"
     ]
    },
    {
     "data": {
      "image/png": "[encoded data removed]",
      "text/plain": [
       "<matplotlib.figure.Figure at 0x7f9fc491c0d0>"
      ]
     },
     "metadata": {},
     "output_type": "display_data"
    }
   ],
   "source": [
    "#fric_v=0   \n",
    "r = 0\n",
    "a=(pi/6) # angulo de inclinacion del plano\n",
    "v_y = cos(a)\n",
    "v_x = sin(a) \n",
    "h = -f(5,a,0)\n",
    "x_in = 5./3.\n",
    "y_in = f(x_in,a,h) # altura de la pendiente desde donde se hace el lazamiento\n",
    "inicio = [x_in,y_in,v_x,v_y] # las dos primeras entradas corresponden a la posicion inicial de la pelora (x,y)\n",
    "                    # las ultimas dos estradas corresponde a las componetes de la velocidad incial de la pelota (vx,vy) \n",
    "N = 3000 # numero de puntos a calcular dentro de la trayectoria\n",
    "trayectoria = zeros((N,len(inicio)))\n",
    "mi_dt = .01\n",
    "trayectoria[0,:] = array(inicio)\n",
    "for i in range(N-1):\n",
    "    t,sol_dt = rk4(e_mov,trayectoria[i,:],[0,mi_dt],fric_v) # aqui se escoje la friccion a utilizar\n",
    "    plano = f(sol_dt[-1,:][0],a,h) # utiliza la funcion de la recta para encontrar el punto donde la pelota rebota\n",
    "    if sol_dt[-1,:][1] < plano: # si la posicion en y de la pelota es menor a la altura del plano la pelota rebota\n",
    "        punto = rebote(trayectoria[i,:],mi_dt)\n",
    "        trayectoria[i+1,:] = punto \n",
    "        r +=1\n",
    "    else:\n",
    "        trayectoria[i+1,:] = sol_dt[-1,:]      \n",
    "    if sol_dt[-1,:][1] > 5.9: # si la posicion en y de la pelota es menor a la altura del plano la pelota rebota\n",
    "        punto = rebote4(trayectoria[i,:],mi_dt)\n",
    "        trayectoria[i+1,:] = punto\n",
    "        r +=1\n",
    "    if sol_dt[-1,:][0] > 10: # si la posicion en y de la pelota es menor a la altura del plano la pelota rebota\n",
    "        punto = rebote2(trayectoria[i,:],mi_dt)\n",
    "        trayectoria[i+1,:] = punto \n",
    "        r +=1\n",
    "    if sol_dt[-1,:][0] < 0: # si la posicion en y de la pelota es menor a la altura del plano la pelota rebota\n",
    "        punto = rebote3(trayectoria[i,:],mi_dt)\n",
    "        trayectoria[i+1,:] = punto\n",
    "        r +=1\n",
    "x=linspace(0,5)\n",
    "z=linspace(5,10)\n",
    "plot(x,g(x,a),'black',z,k(z,a),'black')\n",
    "plot(trayectoria[:,0],trayectoria[:,1],'-') # grafica los punto de la trayectoria \n",
    "print \"rebote =\",r                                                        # y el plano donde rebota la pelota\n",
    "show()"
   ]
  },
  {
   "cell_type": "code",
   "execution_count": null,
   "metadata": {
    "collapsed": true
   },
   "outputs": [],
   "source": []
  },
  {
   "cell_type": "code",
   "execution_count": null,
   "metadata": {
    "collapsed": true
   },
   "outputs": [],
   "source": []
  }
 ],
 "metadata": {
  "kernelspec": {
   "display_name": "Python [Root]",
   "language": "python",
   "name": "Python [Root]"
  },
  "language_info": {
   "codemirror_mode": {
    "name": "ipython",
    "version": 2
   },
   "file_extension": ".py",
   "mimetype": "text/x-python",
   "name": "python",
   "nbconvert_exporter": "python",
   "pygments_lexer": "ipython2",
   "version": "2.7.12"
  }
 },
 "nbformat": 4,
 "nbformat_minor": 0
}
